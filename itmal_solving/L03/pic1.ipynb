{
 "cells": [
  {
   "cell_type": "code",
   "execution_count": 162,
   "metadata": {},
   "outputs": [
    {
     "name": "stdout",
     "output_type": "stream",
     "text": [
      "Working directory: C:\\Users\\Simon\\Documents\\MachineLearning\\itmal_solving\\L03\n",
      "Shape of raw CoffeeAndCodeLT2018.csv before preparing:  (100, 9)\n",
      "Shape of Coffee Data after dropping columns with fields without values:  (97, 9)\n",
      "Shape of Coffee Data after dropping columns we are not going to look at:  (100, 4)\n",
      "\n",
      "Data sample: \n"
     ]
    },
    {
     "data": {
      "text/html": [
       "<div>\n",
       "<style scoped>\n",
       "    .dataframe tbody tr th:only-of-type {\n",
       "        vertical-align: middle;\n",
       "    }\n",
       "\n",
       "    .dataframe tbody tr th {\n",
       "        vertical-align: top;\n",
       "    }\n",
       "\n",
       "    .dataframe thead th {\n",
       "        text-align: right;\n",
       "    }\n",
       "</style>\n",
       "<table border=\"1\" class=\"dataframe\">\n",
       "  <thead>\n",
       "    <tr style=\"text-align: right;\">\n",
       "      <th></th>\n",
       "      <th>CoffeeCupsPerDay</th>\n",
       "      <th>CoffeeTime</th>\n",
       "      <th>CodingWithoutCoffee</th>\n",
       "      <th>CoffeeSolveBugs</th>\n",
       "    </tr>\n",
       "  </thead>\n",
       "  <tbody>\n",
       "    <tr>\n",
       "      <th>25</th>\n",
       "      <td>3</td>\n",
       "      <td>While coding</td>\n",
       "      <td>Yes</td>\n",
       "      <td>No</td>\n",
       "    </tr>\n",
       "    <tr>\n",
       "      <th>36</th>\n",
       "      <td>3</td>\n",
       "      <td>All the time</td>\n",
       "      <td>Sometimes</td>\n",
       "      <td>Sometimes</td>\n",
       "    </tr>\n",
       "    <tr>\n",
       "      <th>71</th>\n",
       "      <td>8</td>\n",
       "      <td>All the time</td>\n",
       "      <td>No</td>\n",
       "      <td>Yes</td>\n",
       "    </tr>\n",
       "    <tr>\n",
       "      <th>3</th>\n",
       "      <td>2</td>\n",
       "      <td>Before coding</td>\n",
       "      <td>No</td>\n",
       "      <td>Yes</td>\n",
       "    </tr>\n",
       "    <tr>\n",
       "      <th>78</th>\n",
       "      <td>2</td>\n",
       "      <td>While coding</td>\n",
       "      <td>Sometimes</td>\n",
       "      <td>No</td>\n",
       "    </tr>\n",
       "  </tbody>\n",
       "</table>\n",
       "</div>"
      ],
      "text/plain": [
       "    CoffeeCupsPerDay     CoffeeTime CodingWithoutCoffee CoffeeSolveBugs\n",
       "25                 3   While coding                 Yes              No\n",
       "36                 3   All the time           Sometimes       Sometimes\n",
       "71                 8   All the time                  No             Yes\n",
       "3                  2  Before coding                  No             Yes\n",
       "78                 2   While coding           Sometimes              No"
      ]
     },
     "execution_count": 165,
     "metadata": {},
     "output_type": "execute_result"
    }
   ],
   "source": [
    "# TODO: Qg\n",
    "\n",
    "import pandas as pd\n",
    "import os\n",
    "\n",
    "# Download and clean the data\n",
    "print('Working directory: ' + os.getcwd())\n",
    "\n",
    "coffee_data = pd.read_csv('Data/CoffeeAndCodeLT2018.csv')\n",
    "\n",
    "print('Shape of raw CoffeeAndCodeLT2018.csv before preparing: ', coffee_data.shape)\n",
    "\n",
    "cleaned_data = coffee_data.dropna()\n",
    "\n",
    "print('Shape of Coffee Data after dropping columns with fields without values: ', cleaned_data.shape)\n",
    "\n",
    "cleaned_data = coffee_data.drop(\"Country\", axis=1) # Only one country\n",
    "cleaned_data = cleaned_data.drop(\"AgeRange\", axis=1) # Not gonna look at this\n",
    "cleaned_data = cleaned_data.drop(\"CoffeeType\", axis=1) # Not gonna look at this\n",
    "cleaned_data = cleaned_data.drop(\"Gender\", axis=1) # Not gonna look at this\n",
    "cleaned_data = cleaned_data.drop(\"CodingHours\", axis=1) # Don't know what they measuared\n",
    "\n",
    "print('Shape of Coffee Data after dropping columns we are not going to look at: ', cleaned_data.shape)\n",
    "\n",
    "print('\\nData sample: ')\n",
    "cleaned_data.sample(5)\n",
    "\n",
    "#"
   ]
  },
  {
   "cell_type": "code",
   "execution_count": 163,
   "metadata": {},
   "outputs": [],
   "source": []
  }
 ],
 "metadata": {
  "file_extension": ".py",
  "kernelspec": {
   "display_name": "Python 3",
   "language": "python",
   "name": "python3"
  },
  "language_info": {
   "codemirror_mode": {
    "name": "ipython",
    "version": 3
   },
   "file_extension": ".py",
   "mimetype": "text/x-python",
   "name": "python",
   "nbconvert_exporter": "python",
   "pygments_lexer": "ipython3",
   "version": "3.7.2"
  },
  "mimetype": "text/x-python",
  "name": "python",
  "npconvert_exporter": "python",
  "pygments_lexer": "ipython3",
  "version": 3
 },
 "nbformat": 4,
 "nbformat_minor": 2
}
