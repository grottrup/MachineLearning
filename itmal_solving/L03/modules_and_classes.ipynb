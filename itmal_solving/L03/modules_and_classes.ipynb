{
 "cells": [
  {
   "cell_type": "markdown",
   "metadata": {},
   "source": [
    "# ITMAL Exercise\n",
    "\n",
    "REVISIONS|\n",
    "---------|------------------------------------------------\n",
    "2018-1219| CEF, initial.                  \n",
    "2018-0206| CEF, updated and spell checked. \n",
    "2018-0207| CEF, made Qh optional.\n",
    "2018-0208| CEF, added PYTHONPATH for windows.\n",
    "\n",
    "## Python Basics\n",
    "\n",
    "### Modules and Packages in Python\n",
    "\n",
    "Reuse of code in Jupyter notebooks can be done by either including a raw python source as a magic command\n",
    "\n",
    "```python\n",
    "%load filename.py\n",
    "```\n",
    "but this just pastes in the source and creates all kinds of pains regarding code maintenance.\n",
    "\n",
    "A better way is to use a python __module__. A module consists simply (and pythonic) of a directory with a module init file in it (possibly empty) \n",
    "```python\n",
    "libitmal/__init__.py\n",
    "```\n",
    "To this directory you can add modules in form of plain python files, say\n",
    "```python\n",
    "libitmal/utils.py\n",
    "```\n",
    "That's about it! The `libitmal` file tree should now look like\n",
    "```\n",
    "libitmal/\n",
    "├── __init__.py\n",
    "├── __pycache__\n",
    "│   ├── __init__.cpython-36.pyc\n",
    "│   └── utils.cpython-36.pyc\n",
    "├── utils.py\n",
    "```\n",
    "with the cache part only being present once the module has been initialized.\n",
    "\n",
    "You should now be able to use the `libitmal` unit via an import directive, like\n",
    "```python\n",
    "from libitmal import utils \n",
    "import numpy as np\n",
    "\n",
    "print(dir(utils))\n",
    "print(utils.__file__)\n",
    "\n",
    "X = np.array([[1,2],[3,-100]])\n",
    "utils.PrintMatrix(X,\"mylabel=\")\n",
    "utils.TestAll()\n",
    "```\n",
    "\n",
    "#### Qa Load and test the `libitmal` module\n",
    "\n",
    "Try out the `libitmal` module from [GITMAL]. Load this module and run the function\n",
    "\n",
    "```python\n",
    "from libitmal import utils as itmalutils\n",
    "utils.TestAll()\n",
    "```\n",
    "from this module.\n",
    "\n",
    "##### Implementation details\n",
    "\n",
    "Note that there is a python module ___include___ search path, that you may have to investigate and modify. For my Linux setup I have an export or declare statement in my .bashrc file, like\n",
    "\n",
    "```bash\n",
    "declare -x PYTHONPATH=~/ASE/ML/itmal:$PYTHONPATH\n",
    "```\n",
    "but your ```itmal```, the [GITMAL] root dir, may be placed elsewhere.\n",
    "\n",
    "For ___Windows___, you have to add `PYTHONPATH` to your user environment variables...see screenshot below (enlarge by modding the image width-tag or find the original png in the Figs directory).\n",
    "\n",
    "<img src=\"Figs/Screenshot_windows_enviroment_variables.png\" style=\"width:350px\">\n",
    "\n",
    "or if you, like me, hate setting up things in a GUI, and prefer a console, try in a CMD on windows\n",
    "\n",
    "```bash\n",
    "CMD> setx.exe PYTHONPATH \"C:\\Users\\auXXYYZZ\\itmal\"\n",
    "```\n",
    "\n",
    "replacing the username and path with whatever you have. If everything fails you could programmatically add your path to the libitmal directory as\n",
    "\n",
    "```python\n",
    "import sys,os\n",
    "sys.path.append(os.path.expanduser('~/itmal'))\n",
    "\n",
    "from libitmal import utils as itmalutils\n",
    "print(dir(itmalutils))\n",
    "print(itmalutils.__file__)\n",
    "```"
   ]
  },
  {
   "cell_type": "code",
   "execution_count": 3,
   "metadata": {},
   "outputs": [
    {
     "name": "stdout",
     "output_type": "stream",
     "text": [
      "C:\\Users\\Jazzbear\\Documents\\GitRepos\\MachineLearning\\itmal_solving\n",
      "TestPrintMatrix...(no regression testing)\n",
      "X=[[   1.    2.]\n",
      "   [   3. -100.]\n",
      "   [   1.   -1.]]\n",
      "X=[[ 1.  2.]\n",
      "   ...\n",
      "   [ 1. -1.]]\n",
      "X=[[   1.\n",
      "       2.    ]\n",
      "   [   3.0001\n",
      "    -100.    ]\n",
      "   [   1.\n",
      "      -1.    ]]\n",
      "X=[[   1.    2.]\n",
      "   [   3. -100.]\n",
      "   [   1.   -1.]]\n",
      "OK\n",
      "TEST: OK\n",
      "ALL OK\n"
     ]
    }
   ],
   "source": [
    "# TODO: Qa...\n",
    "% cd ..\n",
    "from libitmal import utils\n",
    "utils.TestAll()"
   ]
  },
  {
   "cell_type": "markdown",
   "metadata": {},
   "source": [
    "#### Qb Create your own module, with some functions, and test it\n",
    "\n",
    "Now create your own module, with some dummy functionality. Load it and run you dummy function in a Jupyter Notebook.\n",
    "\n",
    "Keep this module at hand, when coding, and try to capture reusable python functions in it as you invent them!"
   ]
  },
  {
   "cell_type": "code",
   "execution_count": 32,
   "metadata": {},
   "outputs": [
    {
     "name": "stdout",
     "output_type": "stream",
     "text": [
      "Hello world\n",
      "This is a cool method!\n"
     ]
    }
   ],
   "source": [
    "# TODO: Qb...\n",
    "from saflib import hello\n",
    "reload(hello)\n",
    "\n",
    "print(hello.hello())\n",
    "print(hello.cool())"
   ]
  },
  {
   "cell_type": "markdown",
   "metadata": {},
   "source": [
    "#### Qc How do you 'recompile' a module?\n",
    "\n",
    "When changing the module code, Jupyter will keep running on the old module. How do you force the Jupyter notebook to re-load the module changes? "
   ]
  },
  {
   "cell_type": "code",
   "execution_count": 20,
   "metadata": {},
   "outputs": [
    {
     "name": "stdout",
     "output_type": "stream",
     "text": [
      "Original module-method output: Hello world\n",
      "Modified module-method output: Hello world!\n"
     ]
    }
   ],
   "source": [
    "# TODO: Qc...\n",
    "from importlib import reload\n",
    "from saflib import hello\n",
    "\n",
    "print(f'Original module-method output: {hello.hello()}')\n",
    "\n",
    "# Using the reload method available jupyter.\n",
    "# The module is forcibly reloaded and thus changes will be applied.\n",
    "hello = reload(hello)\n",
    "\n",
    "print(f'Modified module-method output: {hello.hello()}')"
   ]
  },
  {
   "cell_type": "markdown",
   "metadata": {},
   "source": [
    "#### [OPTIONAL] Qd Write a Howto on Python Modules and Packages\n",
    "\n",
    "Write a short description of how to use modules in Python (notes on modules path, import directives, directory structure, etc.)"
   ]
  },
  {
   "cell_type": "code",
   "execution_count": 8,
   "metadata": {},
   "outputs": [],
   "source": [
    "# TODO: Qd...\n",
    "\n",
    "# This how-to is based on the information available on: https://docs.python.org/3/tutorial/modules.html\n",
    "# And also this video: https://youtu.be/f26nAmfJggw\n",
    "\n",
    "# In python Modules are basically just a file containing some Python definitions and statement,\n",
    "# and with the \".py\" file-extension. This file can then be importet or parts of it like single methods etc.\n",
    "\n",
    "# A \"Package\" is in  then a directory with a \"__init__.py\" file in it. And then some collections of pythond modules.\n",
    "# The \"__init__.py\" file doesn't need to contain anything, but __init__.py generaly works as a constructor.\n",
    "# And because of that, the files excistence lets the compiler know that this directory is to be treated as package.\n",
    "# The reason why the \"__init__.py\" is required is to  to prevent directories with a common name, such as string, \n",
    "# from unintentionally hiding valid modules that occur later on the module search path."
   ]
  },
  {
   "cell_type": "markdown",
   "metadata": {},
   "source": [
    "### Classes in Python\n",
    "\n",
    "Good news: Python got classes. Bad news: they are somewhat obscure compared to C++ classes. \n",
    "\n",
    "Though we will not use object-oriented programming in Python intensively, we still need some basic understanding of Python classes. Let's just dig into a class-demo, here is `MyClass` in Python\n",
    "\n",
    "```python\n",
    "class MyClass:\n",
    "    myvar = \"blah\"\n",
    "\n",
    "    def myfun(self):\n",
    "        print(\"This is a message inside the class.\")\n",
    "\n",
    "myobjectx = MyClass()\n",
    "```\n",
    "\n",
    "#### Qe Extend the class with some public and private functions and member variables\n",
    "\n",
    "How are private function and member variables represented in python classes? \n",
    "\n",
    "What is the meaning of `self` in python classes?\n",
    "\n",
    "What happens to a function inside a class if you forget `self` in the parameter list, like `def myfun():` instead of `def myfun(self):`?\n",
    "\n",
    "[OPTIONAL] What does 'class' and 'instance variables' in python correspond to in C++? Maybe you can figure it out, I did not really get it reading, say this tutorial\n",
    "\n",
    "> https://www.digitalocean.com/community/tutorials/understanding-class-and-instance-variables-in-python-3"
   ]
  },
  {
   "cell_type": "code",
   "execution_count": null,
   "metadata": {},
   "outputs": [],
   "source": [
    "# TODO: Qe...\n",
    "'''\n",
    "A member prefixed with an underscore like \"_private_member\" is a conventional way of writing a private member. \n",
    "However, if you want to enforce it there is support for *name mangling* by using two underscores for your member,\n",
    "i.e. \"__name_mangled_private_member\". This will textually be replaced with classname__name_mangled_private_member.\n",
    "'''\n",
    "\n",
    "class MyClass:\n",
    "    myvar = \"global variable\"\n",
    "\n",
    "    def myfun():\n",
    "        print(\"This is a message inside the class.\")\n",
    "\n",
    "myobjectx = MyClass()\n",
    "# myobjectx.myfun() # throws \"TypeError: myfun() takes 0 positional arguments but 1 was given\"\n",
    "print(myobjectx.myvar)\n",
    "\n",
    "class MyClass:\n",
    "    _myvar = \"conventional privat variable\" # conventional private\n",
    "    __myvar = \"enforced privat variable\" # enforced private\n",
    "\n",
    "    def myfun(self):\n",
    "        self.\n",
    "        print(self.__myvar)\n",
    "\n",
    "myobjectx = MyClass()\n",
    "# print(myobjectx.__myvar) # Throws\n",
    "print(myobjectx._myvar) # Works fine\n",
    "myobjectx.myfun() # Works fine'\n"
   ]
  },
  {
   "cell_type": "markdown",
   "metadata": {},
   "source": [
    "#### Qf Extend the class with a Constructor\n",
    "\n",
    "Figure a way to declare/define a constructor (CTOR) in a python class. How is it done in python?\n",
    "\n",
    "Is there a class destructor in python (DTOR)? Give a textual reason why/why-not python has a DTOR?\n",
    "\n",
    "Hint: python is garbage collection like in C#, and do not go into the details of `__del__, ___enter__, __exit__` functions...unless you find it irresistible to investigate."
   ]
  },
  {
   "cell_type": "code",
   "execution_count": 2,
   "metadata": {},
   "outputs": [
    {
     "name": "stdout",
     "output_type": "stream",
     "text": [
      "Making...\n",
      "1 born\n",
      "Returning...\n",
      "1 died\n"
     ]
    }
   ],
   "source": [
    "# TODO: Qf...\n",
    "class FooType(object):\n",
    "    __id = \"private variable\"\n",
    "    \n",
    "    def __init__(self, id):\n",
    "        self.__id = id\n",
    "        print(self.__id, \"born\")\n",
    "        \n",
    "    def __del__(self):\n",
    "        print(self.__id, \"died\")\n",
    "        \n",
    "def makeFoo():\n",
    "    print('Making...')\n",
    "    ft = FooType(1)\n",
    "    print('Returning...')\n",
    "    return ft\n",
    "\n",
    "ft = makeFoo()\n"
   ]
  },
  {
   "cell_type": "markdown",
   "metadata": {},
   "source": [
    "#### Qg Extend the class with a to-string function\n",
    "\n",
    "Then find a way to serialize a class, that is to make some `tostring()` functionality similar to a C++ \n",
    "\n",
    "```C++\n",
    "friend ostream& operator<<(ostream& s,const MyClass& x)\n",
    "{\n",
    "    return os << ..\n",
    "}\n",
    "```"
   ]
  },
  {
   "cell_type": "code",
   "execution_count": 36,
   "metadata": {},
   "outputs": [
    {
     "name": "stdout",
     "output_type": "stream",
     "text": [
      "SomeClass\n"
     ]
    }
   ],
   "source": [
    "# TODO: Qg...\n",
    "# By simply overriding the standard __str__ method that exist on a python object,\n",
    "# We can define our own to-string method like so.\n",
    "class SomeClass():\n",
    "    def __str__(self):\n",
    "        return \"SomeClass\"\n",
    "\n",
    "\n",
    "instance = SomeClass()\n",
    "print(instance)"
   ]
  },
  {
   "cell_type": "markdown",
   "metadata": {},
   "source": [
    "#### Qh Write a Howto on Python Classes [OPTIONAL]\n",
    "\n",
    "Write a _How-To use Classes Pythonically_, including a description of public/privacy, constructors/destructors, the meaning of `self`, and inheritance."
   ]
  },
  {
   "cell_type": "code",
   "execution_count": null,
   "metadata": {},
   "outputs": [],
   "source": [
    "# TODO: Qh..."
   ]
  }
 ],
 "metadata": {
  "kernelspec": {
   "display_name": "Python 3",
   "language": "python",
   "name": "python3"
  },
  "language_info": {
   "codemirror_mode": {
    "name": "ipython",
    "version": 3
   },
   "file_extension": ".py",
   "mimetype": "text/x-python",
   "name": "python",
   "nbconvert_exporter": "python",
   "pygments_lexer": "ipython3",
   "version": "3.6.5"
  }
 },
 "nbformat": 4,
 "nbformat_minor": 2
}
