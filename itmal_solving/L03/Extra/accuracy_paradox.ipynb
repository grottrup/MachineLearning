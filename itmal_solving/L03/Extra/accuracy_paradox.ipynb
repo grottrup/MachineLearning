{
 "cells": [
  {
   "cell_type": "code",
   "execution_count": 36,
   "metadata": {},
   "outputs": [
    {
     "name": "stdout",
     "output_type": "stream",
     "text": [
      "The Accuracy Paradox: a naive classifer\n",
      "  X.shape=(569, 30), y_true.shape=(569,)\n",
      "  acc= 0.6228070175438597 , N= 114\n",
      "  m/n= 0.6228070175438597, m=71, N=114\"\n"
     ]
    }
   ],
   "source": [
    "# Extra: accuracy paradox classifer demo\n",
    "\n",
    "import numpy as np\n",
    "from sklearn.base import BaseEstimator\n",
    "from sklearn.metrics import accuracy_score\n",
    "from sklearn.datasets import load_breast_cancer\n",
    "from sklearn.model_selection import train_test_split\n",
    "\n",
    "def CountTrues(y):\n",
    "    assert y.ndim == 1, \"excpeted y dim to be 1\"     \n",
    "    N = y.shape[0]\n",
    "    assert N>0, \"no data, oh dear!\"\n",
    "    m = np.count_nonzero(y==1)    \n",
    "    return m, N\n",
    "\n",
    "class ParadoxClassifier(BaseEstimator):\n",
    "    \n",
    "    def fit(self, X, y=None):\n",
    "        pass\n",
    "    \n",
    "    def predict(self, X):\n",
    "        return np.ones(len(X),dtype=bool)\n",
    "\n",
    "print('The Accuracy Paradox: a naive classifer')\n",
    "X, y_true = load_breast_cancer(return_X_y=True)\n",
    "\n",
    "print(f\"  X.shape={X.shape}, y_true.shape={y_true.shape}\")\n",
    "X_train, X_test, y_train, y_test = train_test_split(\n",
    "    X, y_true, \n",
    "    test_size   =  0.2, \n",
    "    shuffle     = True,\n",
    "    random_state= 42\n",
    "  )\n",
    "\n",
    "clf = ParadoxClassifier()\n",
    "clf.fit(X_train, y_test)\n",
    "y_pred = clf.predict(X_test)\n",
    "\n",
    "a = accuracy_score(y_pred, y_test)\n",
    "print('  acc=', a, ', N=', y_pred.shape[0])\n",
    "\n",
    "m, N = CountTrues(y_test)\n",
    "assert N>0\n",
    "print(f'  m/n= {1.0*m/N}, m={m}, N={N}\"')"
   ]
  }
 ],
 "metadata": {
  "kernelspec": {
   "display_name": "Python 3",
   "language": "python",
   "name": "python3"
  },
  "language_info": {
   "codemirror_mode": {
    "name": "ipython",
    "version": 3
   },
   "file_extension": ".py",
   "mimetype": "text/x-python",
   "name": "python",
   "nbconvert_exporter": "python",
   "pygments_lexer": "ipython3",
   "version": "3.6.5"
  }
 },
 "nbformat": 4,
 "nbformat_minor": 2
}
