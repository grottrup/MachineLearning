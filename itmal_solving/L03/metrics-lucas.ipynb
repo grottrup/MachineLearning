{
 "cells": [
  {
   "cell_type": "markdown",
   "metadata": {},
   "source": [
    "# ITMAL Exercise\n",
    "\n",
    "\n",
    "REVISIONS|\n",
    "---------|------------------------------------------------\n",
    "2018-1219| CEF, initial.                  \n",
    "2018-0207| CEF, updated.           \n",
    "2018-0207| CEF, rewritten accuracy paradox section.           \n",
    "\n",
    "## Performance Metrics\n",
    "\n",
    "There are a number of frequently uses metrics in ML, namely accuracy, precision, recall and the $F_1$ score. All are called _metrics_ (though they are not true norms, like ${\\cal L}_2$ or ${\\cal L}_1$ we saw last time).\n",
    "\n",
    "Maybe performance _score_ would be a better name than performance metric, at least for the accuracy, precision, recall we will be looking at---emphasising the conceptual distinction between the  _score-function_ and _cost(/loss/error/objective)-function_ (the later is typically a true distance/norm function).  \n",
    "\n",
    "\n",
    "You can find a lot of details on say precision and recall in Wikipedia\n",
    "\n",
    ">  https://en.wikipedia.org/wiki/Precision_and_recall\n",
    "\n",
    "\n",
    "### Nomenclature\n",
    "\n",
    "NAME           |   SYMBOL   | ALIAS\n",
    "---------------| --------------------\n",
    "true positives | $TP$ |\n",
    "true negatives | $TN$ | \n",
    "false positives| $FP$ | type I error \n",
    "false negatives| $FN$ | type II error \n",
    "\n",
    "and $N = N_P + N_N$ being the total number of samples and the number of positive and negative samples\n",
    "respectively.\n",
    "\n",
    "### Precision\n",
    "\n",
    "$$\n",
    "\\def\\ba{\\begin{array}{lll}}\n",
    "\\def\\ea{\\end{array}}\n",
    "\\newcommand{\\rem}[1]{}\n",
    "\\newcommand{\\subtext}[1]{_{\\scriptsize{\\mbox{#1}}}}\n",
    "\\newcommand{\\st}[1]{\\subtext{#1}}\n",
    "\\ba\n",
    " p &= \\frac{TP}{TP + FP}\n",
    "\\ea\n",
    "$$\n",
    "\n",
    "### Recall or Sensitivity\n",
    "\n",
    "$$\n",
    "  \\ba\n",
    "    r &= \\frac{TP}{TP + FN}\\\\\n",
    "      &= \\frac{TP}{TP + FN}\\\\ \n",
    "      &= \\frac{TP}{N_P}\n",
    "  \\ea\n",
    "$$\n",
    "\n",
    "### Accuracy\n",
    "\n",
    "$$\n",
    "  \\ba\n",
    "      a &= \\frac{TP + TN}{TP + TN + FP + FN}\\\\\n",
    "        &= \\frac{TP + TN}{N}\\\\\n",
    "        &= \\frac{TP + TN}{N_P + N_N} \n",
    "  \\ea\n",
    "$$\n",
    "\n",
    "#### Accuracy Paradox\n",
    "\n",
    "A static constant model, say $p\\st{cancer}=0$ may have higher accuracy than a real model with predictive power. This is odd!\n",
    "\n",
    "Asymmetric weight could also be associated with the false positive and false negative predictions, yielding either FP of FN much more expensive than the other. Say, it is more expensive not to treat a person with cancer, than treating a person without cancer. \n",
    "\n",
    "### F-score\n",
    "\n",
    "General $\\beta$-harmonic mean of the precision and recall \n",
    "$$\n",
    "    F_\\beta = (1+\\beta^2) \\frac{2pr}{\\beta^2 p+r}\\\\\n",
    "$$ \n",
    "that for say $\\beta=2$ or $\\beta=0.5$ shifts or skews the emphasis on the two variables in the equation. Normally only the $\\beta=1$ harmonic mean is used\n",
    "\n",
    "$$\n",
    "  \\ba\n",
    "    F_1     &= \\frac{2pr}{p+r}\\\\\n",
    "            &=\\frac{2}{1/p + 1/r}\n",
    "  \\ea\n",
    "$$\n",
    "with $F$ typically being synonymous with $F_1$. \n",
    "\n",
    "If needed, find more info on Wikipedia\n",
    "\n",
    "> https://en.wikipedia.org/wiki/F1_score\n",
    "\n",
    "\n",
    "## Confusion Matrix\n",
    "\n",
    "For statistical classification, the confusion matrix or error matrix (or\n",
    "matching matrix in unsupervised learning) is for a two-class problem given by\n",
    "the $2\\times2$ matrix with dimensions 'actual' and 'predicted'\n",
    "\n",
    "$$   \n",
    "{\\bf M}\\st{confusion} = \n",
    "\\begin{array}{l|ll}\n",
    "                           & \\mbox{actual true} & \\mbox{actual false} \\\\ \\hline\n",
    "    \\mbox{predicted true}  & TP & FP \\\\     \n",
    "    \\mbox{predicted false} & FN & TN \n",
    "\\end{array}\n",
    "$$\n",
    "\n",
    "The diagonal, in the square matrix, represent predicted values being the same\n",
    "as the actual values, off-diagonal elements represent erroneous prediction.\n",
    "\n",
    "For N-class classification the matrix gives a matrix with $N$ actual\n",
    "classes and $N$ predicted classes\n",
    "\n",
    "$$\n",
    "{\\bf M}\\st{confusion} =\n",
    "  \\left[\n",
    "  \\begin{array}{llll}\n",
    "       c_{11} & c_{12} & \\cdots & c_{1n} \\\\ \n",
    "       c_{21} & c_{22} & \\cdots & c_{2n} \\\\\n",
    "       \\vdots & \\vdots & \\ddots & \\vdots \\\\\n",
    "       c_{n1} & c_{n2} & \\cdots & c_{nn} \\\\ \n",
    "  \\end{array}\n",
    "  \\right]\n",
    "$$\n",
    "with say element $c_{21}$ being the number of actual classes '1' being predicted (erroneously) as class '2'.\n",
    "\n",
    "### Nomenclature for the Confusion Matrix\n",
    "\n",
    "The naming of the elements in the confusion matrix can be rather exotic, like _false omission rate_ (see the figure below), but we won't get to such detail here...let us stick with TP, TN, FP, FN and $F_1$!\n",
    "\n",
    "<img src=\"Figs/performance_metrics.png\" style=\"width:900px\">\n",
    "\n",
    "If you need more info on the confusion matrix:\n",
    "\n",
    ">  https://en.wikipedia.org/wiki/Confusion_matrix\n",
    "\n",
    "#### Qa Implement the Accuracy function and test it on the MNIST data.\n",
    "\n",
    "Implement a general accuracy function `MyAccuracy`, that takes `y_pred` and `y_true` as input parameters.\n",
    "\n",
    "Reuse your MNIST data loader and test the `MyAccuracy` function  both on your dummy classifier and on the Stochastic Gradient Descent classifier (with setup parameters as in [HOLM])."
   ]
  },
  {
   "cell_type": "code",
   "execution_count": 2,
   "metadata": {},
   "outputs": [
    {
     "name": "stdout",
     "output_type": "stream",
     "text": [
      "\n",
      "my a          = 0.9604\n",
      "scikit-learn a= 0.9604\n"
     ]
    }
   ],
   "source": [
    "# TODO: Qa...\n",
    "import numpy as np\n",
    "from sklearn.metrics import confusion_matrix\n",
    "from sklearn.metrics import accuracy_score\n",
    "from libitmal import utils as itmalutils\n",
    "from libitmal import dataloaders\n",
    "from sklearn.linear_model import SGDClassifier\n",
    "from sklearn.model_selection import cross_val_predict\n",
    "\n",
    "\n",
    "def GetConfusionParams(y_pred, y_true):\n",
    "    TP, FP, FN, TN = 0, 0, 0, 0\n",
    "    for i in range(0, len(y_pred)):\n",
    "        if y_pred[i] == True == y_true[i]:\n",
    "            TP += 1\n",
    "        elif y_pred[i] == True != y_true[i]:\n",
    "            FP += 1\n",
    "        elif y_pred[i] == False != y_true[i]:\n",
    "            FN += 1\n",
    "        elif y_pred[i] == False == y_true[i]:\n",
    "            TN += 1            \n",
    "    \n",
    "    return TP, FP, FN, TN\n",
    "\n",
    "def MyAccuracy(y_pred, y_true):\n",
    "    TP, FP, FN, TN = GetConfusionParams(y_pred, y_true)\n",
    "    \n",
    "    accuracy = (TP + TN) / (TP + FP + FN + TN)\n",
    "    \n",
    "    return accuracy\n",
    "\n",
    "\n",
    "# TEST FUNCTION: compare with Scikit-learn accuracy_score\n",
    "def TestAccuracy(y_pred, y_true):\n",
    "    a0=MyAccuracy(y_pred, y_true)\n",
    "    a1=accuracy_score(y_pred, y_true)\n",
    "\n",
    "    print(\"\\nmy a          =\",a0)\n",
    "    print(\"scikit-learn a=\",a1)\n",
    "\n",
    "    itmalutils.InRange(a0,a1)\n",
    "\n",
    "X, y = dataloaders.MNIST_GetDataSet()\n",
    "X_train, X_test, y_train, y_test = X[:60000], X[60000:], y[:60000], y[60000:]\n",
    "\n",
    "y_train_5 = (y_train == 5)\n",
    "y_test_5 = (y_test == 5)\n",
    "\n",
    "sgd_clf = SGDClassifier(max_iter=5, tol=-np.infty, random_state=42)\n",
    "\n",
    "sgd_clf.fit(X_train, y_train_5)\n",
    "\n",
    "y_test_pred = cross_val_predict(sgd_clf, X_test, y_test_5, cv=3)\n",
    "\n",
    "TestAccuracy(y_test_pred, y_test_5)"
   ]
  },
  {
   "cell_type": "markdown",
   "metadata": {},
   "source": [
    "#### Qb Implement Precision, Recall and $F_1$-score and test it on the MNIST data.\n",
    "\n",
    "Now, implement the `MyPrecision`, `MyRecall` and `MyF1Score` functions, again taking MNIST as input, using the SGD and the Dummy classifiers and make some test vectors to compare to the functions found in Scikit-learn..."
   ]
  },
  {
   "cell_type": "code",
   "execution_count": 3,
   "metadata": {},
   "outputs": [
    {
     "name": "stdout",
     "output_type": "stream",
     "text": [
      "\n",
      "my p          = 0.8107769423558897\n",
      "scikit-learn p= 0.8107769423558897\n",
      "\n",
      "my r          = 0.7253363228699552\n",
      "scikit-learn r= 0.7253363228699552\n",
      "647 151 245 8957\n",
      "\n",
      "my f1          = 0.7656804733727811\n",
      "scikit-learn f1= 0.7656804733727811\n",
      "\n",
      "\n",
      "[[8957  151]\n",
      " [ 245  647]]\n",
      "(647, 151, 245, 8957)\n"
     ]
    }
   ],
   "source": [
    "# TODO: Qb..\n",
    "from sklearn.metrics import precision_score, recall_score, f1_score \n",
    "\n",
    "def MyPrecision(y_pred, y_true):\n",
    "    TP, FP, FN, TN = GetConfusionParams(y_pred, y_true)\n",
    "    \n",
    "    precision = TP / (TP + FP)\n",
    "    \n",
    "    return precision\n",
    "\n",
    "def MyRecall(y_pred, y_true):\n",
    "    TP, FP, FN, TN = GetConfusionParams(y_pred, y_true)\n",
    "\n",
    "    recall = TP / (TP + FN)\n",
    "    \n",
    "    return recall\n",
    "\n",
    "def MyF1Score(y_pred, y_true):\n",
    "    TP, FP, FN, TN = GetConfusionParams(y_pred, y_true)\n",
    "    print(TP, FP, FN, TN)\n",
    "    recall = MyRecall(y_pred, y_true)\n",
    "    precision = MyPrecision(y_pred, y_true)\n",
    "    \n",
    "    f1_score = 2 / (recall**-1 + precision**-1)\n",
    "    \n",
    "    return f1_score\n",
    "\n",
    "# TODO: your test code here!\n",
    "\n",
    "def TestPrecision(y_pred, y_true):\n",
    "    p0=MyPrecision(y_pred, y_true)\n",
    "    p1=precision_score(y_true, y_pred)\n",
    "\n",
    "    print(\"\\nmy p          =\",p0)\n",
    "    print(\"scikit-learn p=\",p1)\n",
    "\n",
    "    itmalutils.InRange(p0,p1)\n",
    "    \n",
    "TestPrecision(y_test_pred, y_test_5)\n",
    "\n",
    "\n",
    "def TestRecall(y_pred, y_true):\n",
    "    r0=MyRecall(y_pred, y_true)\n",
    "    r1=recall_score(y_true, y_pred)\n",
    "\n",
    "    print(\"\\nmy r          =\",r0)\n",
    "    print(\"scikit-learn r=\",r1)\n",
    "\n",
    "    itmalutils.InRange(r0,r1)\n",
    "\n",
    "TestRecall(y_test_pred, y_test_5)\n",
    "\n",
    "\n",
    "def TestF1Score(y_pred, y_true):\n",
    "    f1_0=MyF1Score(y_pred, y_true)\n",
    "    f1_1=f1_score(y_true, y_pred)\n",
    "\n",
    "    print(\"\\nmy f1          =\",f1_0)\n",
    "    print(\"scikit-learn f1=\",f1_1)\n",
    "\n",
    "    itmalutils.InRange(f1_0,f1_1)\n",
    "\n",
    "TestF1Score(y_test_pred, y_test_5)\n",
    "\n",
    "print(\"\\n\")\n",
    "print(confusion_matrix(y_test_5, y_test_pred))\n",
    "print(GetConfusionParams(y_test_pred, y_test_5))"
   ]
  },
  {
   "cell_type": "markdown",
   "metadata": {},
   "source": [
    "#### Qc The Confusion Matrix\n",
    "\n",
    "Revisit your solution to Qb in the `dummy_classifier.ipynb`. Did you manage to print the confusion matrix for both the Dummy and the SGD classifier?\n",
    "\n",
    "I got the two confusion matrices\n",
    "\n",
    "```\n",
    "M_dummy=[[18166     0]\n",
    "        [ 1834     0]]\n",
    "   \n",
    "M_SDG=[[17618   548]\n",
    "      [  267  1567]]\n",
    "\n",
    "```\n",
    "your data may look similar (but not 100% equal). See if you can print the confusion matrix (some test code below for inspiration).\n",
    "\n",
    "How are the Scikit-learn confusion matrix organized, where are the TP, FP, FN and TN located in the matrix indices, and what happens if you mess up the parameters calling\n",
    "\n",
    "```python\n",
    "confusion_matrix(y_train_pred, y_train_5)\n",
    "```\n",
    "\n",
    "instead of \n",
    "```python\n",
    "confusion_matrix(y_train_5, y_train_pred)\n",
    "```\n",
    "\n",
    "Finally, compare the real and symmetric auto-covariance matrix, $\\Sigma$, with the real but non-symmetric confusion matrix, $\\mathbf{M}$. What does the diagonal represent in the covar- and confusion matrix respectively, and why is the covar- symmetric, but the confusion not? "
   ]
  },
  {
   "cell_type": "code",
   "execution_count": 4,
   "metadata": {},
   "outputs": [
    {
     "name": "stdout",
     "output_type": "stream",
     "text": [
      "M_sgd=[[8957  151]\n",
      "       [ 245  647]]\n",
      "M_dum=[[9108    0]\n",
      "       [ 892    0]]\n",
      "M_dum_switch=[[9108  892]\n",
      "              [   0    0]]\n"
     ]
    }
   ],
   "source": [
    "# TODO: Qc\n",
    "from sklearn.metrics import confusion_matrix\n",
    "from sklearn.base import BaseEstimator, ClassifierMixin \n",
    "\n",
    "class DummyClassifier(BaseEstimator, ClassifierMixin):\n",
    "    def fit(self, X, y=None):\n",
    "        pass\n",
    "    def predict(self, X):\n",
    "        return np.zeros((len(X), 1), dtype=bool)\n",
    "\n",
    "\n",
    "# TEST CODE: some demo code to produce a 'test' confusion matrix using the SGD model \n",
    "M_sgd = confusion_matrix(y_test_5, y_test_pred)\n",
    "itmalutils.PrintMatrix(M_sgd,\"M_sgd=\")\n",
    "\n",
    "dum_clf = DummyClassifier()\n",
    "\n",
    "M_dum = confusion_matrix(y_test_5, cross_val_predict(dum_clf, X_test, y_test_5, cv=3))\n",
    "itmalutils.PrintMatrix(M_dum,\"M_dum=\")\n",
    "\n",
    "\n",
    "'''\n",
    "The confusion matrix switches the places of the false positives and the false negatives around as shown in M_dum_switch\n",
    "'''\n",
    "M_dum_switch = confusion_matrix(cross_val_predict(dum_clf, X_test, y_test_5, cv=3), y_test_5)\n",
    "itmalutils.PrintMatrix(M_dum_switch,\"M_dum_switch=\")\n",
    "\n",
    "# https://en.wikipedia.org/wiki/Covariance_matrix"
   ]
  },
  {
   "cell_type": "markdown",
   "metadata": {},
   "source": [
    "#### Qd A Confusion Matrix Heat-map\n",
    "\n",
    "Generate a _heat map_ image for the confusion matrices, `M_dummy` and `M_SGD` respectively, getting inspiration from [HOML], pp96-97.\n",
    "\n",
    "This heat map could be an important guide for you when analysing multiclass data in the future."
   ]
  },
  {
   "cell_type": "code",
   "execution_count": 5,
   "metadata": {},
   "outputs": [
    {
     "data": {
      "image/png": "[encoded data removed]",
      "text/plain": [
       "<Figure size 288x288 with 1 Axes>"
      ]
     },
     "metadata": {
      "needs_background": "light"
     },
     "output_type": "display_data"
    },
    {
     "data": {
      "image/png": "[encoded data removed]",
      "text/plain": [
       "<Figure size 288x288 with 1 Axes>"
      ]
     },
     "metadata": {
      "needs_background": "light"
     },
     "output_type": "display_data"
    }
   ],
   "source": [
    "# TODO: Qd\n",
    "import matplotlib.pyplot as plt\n",
    "\n",
    "plt.matshow(M_sgd)\n",
    "plt.show()\n",
    "\n",
    "plt.matshow(M_dum)\n",
    "plt.show()"
   ]
  },
  {
   "cell_type": "markdown",
   "metadata": {},
   "source": [
    "#### Qe Run a classifier on your data\n",
    "\n",
    "Finally, try to run a classifier on the data-set you selected previously, perhaps starting with the SGD.\n",
    "\n",
    "Is it possible to classify at all on your data, or do we need regression instead?\n",
    "\n",
    "Are you able to do supervised learning, or are there no obvious `y_true` data in your set at all?\n",
    "\n",
    "If your data is in the form, where you are able to do supervised-classification, could you produce a confusion matrix heatmap, then?"
   ]
  },
  {
   "cell_type": "code",
   "execution_count": 7,
   "metadata": {},
   "outputs": [
    {
     "name": "stderr",
     "output_type": "stream",
     "text": [
      "C:\\Users\\lukas\\Anaconda3\\lib\\site-packages\\IPython\\core\\interactiveshell.py:3044: DtypeWarning: Columns (4,6,31,33,61,62,63,76,79,90,92,94,96,114,115,121) have mixed types. Specify dtype option on import or set low_memory=False.\n",
      "  interactivity=interactivity, compiler=compiler, result=result)\n"
     ]
    },
    {
     "name": "stdout",
     "output_type": "stream",
     "text": [
      "Shape of raw data:  (181691, 135)\n",
      "Shape after dropping all rows without a latitude or longtitude feature:  (177134, 135)\n",
      "Shape after dropping attributes with features except country, longitude and latitude:  (177134, 3) \n",
      "\n",
      "Number of Iraq incidents in y_train:  18423\n",
      "Number of Iraq incidents in y_test:  6064\n"
     ]
    }
   ],
   "source": [
    "# TODO: Qe...\n",
    "# Downloaded Global Terrorist Database: https://www.kaggle.com/START-UMD/gtd\n",
    "# Want to classify if the country is Iraq (country number 95) given the attributes longitude and latitude\n",
    "import numpy as np\n",
    "import pandas as pd\n",
    "\n",
    "gtd = pd.read_csv(\"gtd/globalterrorismdb_0718dist.csv\", encoding='ISO-8859-1')\n",
    "print(\"Shape of raw data: \", gtd.shape)\n",
    "\n",
    "gtd_pos = gtd.dropna(subset=[\"latitude\", \"longitude\"])\n",
    "print(\"Shape after dropping all rows without a latitude or longtitude feature: \", gtd_pos.shape)\n",
    "\n",
    "gtd_trimmed = gtd_pos[[\"country\", \"latitude\", \"longitude\"]]\n",
    "print(\"Shape after dropping attributes with features except country, longitude and latitude: \", gtd_trimmed.shape, \"\\n\")\n",
    "\n",
    "\n",
    "y = gtd_trimmed[\"country\"]\n",
    "X = gtd_trimmed.drop(\"country\", axis=\"columns\")\n",
    "\n",
    "from sklearn.model_selection import train_test_split\n",
    "\n",
    "X_train, X_test, y_train, y_test = train_test_split(X, y, random_state=42)\n",
    "\n",
    "country_number = 95\n",
    "y_train_country = (y_train == country_number)\n",
    "y_test_country = (y_test == country_number)\n",
    "\n",
    "print(\"Number of Iraq incidents in y_train: \", (y_train_country == True).sum())\n",
    "print(\"Number of Iraq incidents in y_test: \", (y_test_country == True).sum())\n",
    "\n",
    "from sklearn.model_selection import cross_val_predict\n",
    "from sklearn.metrics import confusion_matrix\n",
    "import matplotlib.pyplot as plt\n",
    "from sklearn.metrics import accuracy_score, precision_score, recall_score, f1_score\n",
    "\n",
    "def clf_score(scoring_method):\n",
    "    score = scoring_method(y_test_country, y_pred)\n",
    "    print(scoring_method.__name__, \": \", score)"
   ]
  },
  {
   "cell_type": "code",
   "execution_count": 8,
   "metadata": {},
   "outputs": [
    {
     "name": "stdout",
     "output_type": "stream",
     "text": [
      "Testing SGDClassifier on dataset\n",
      "Number of Iraq incidents in y_pred:  3641 \n",
      "\n",
      "[[34580  3640]\n",
      " [ 6063     1]]\n"
     ]
    },
    {
     "data": {
      "image/png": "[encoded data removed]",
      "text/plain": [
       "<Figure size 288x288 with 1 Axes>"
      ]
     },
     "metadata": {
      "needs_background": "light"
     },
     "output_type": "display_data"
    },
    {
     "name": "stdout",
     "output_type": "stream",
     "text": [
      "accuracy_score :  0.7808915183813567\n",
      "precision_score :  0.00027464982147761604\n",
      "recall_score :  0.00016490765171503957\n",
      "f1_score :  0.00020607934054611026\n"
     ]
    }
   ],
   "source": [
    "from sklearn.linear_model import SGDClassifier\n",
    "\n",
    "clf = SGDClassifier(max_iter=5, tol=-np.inf)\n",
    "print(\"Testing\", clf.__class__.__name__, \"on dataset\")\n",
    "\n",
    "clf.fit(X_train, y_train_country)\n",
    "\n",
    "y_pred = cross_val_predict(clf, X_test, y_test_country, cv=3)\n",
    "print(\"Number of Iraq incidents in y_pred: \", (y_pred == True).sum(), \"\\n\")\n",
    "\n",
    "M = confusion_matrix(y_test_country, y_pred)\n",
    "print(M)\n",
    "plt.matshow(M)\n",
    "plt.show()\n",
    "\n",
    "clf_score(accuracy_score)\n",
    "clf_score(precision_score)\n",
    "clf_score(recall_score)\n",
    "clf_score(f1_score)"
   ]
  },
  {
   "cell_type": "code",
   "execution_count": 10,
   "metadata": {},
   "outputs": [
    {
     "name": "stdout",
     "output_type": "stream",
     "text": [
      "Testing MLPClassifier on dataset\n"
     ]
    },
    {
     "name": "stderr",
     "output_type": "stream",
     "text": [
      "C:\\Users\\lukas\\Anaconda3\\lib\\site-packages\\sklearn\\neural_network\\multilayer_perceptron.py:564: UserWarning: Training interrupted by user.\n",
      "  warnings.warn(\"Training interrupted by user.\")\n",
      "C:\\Users\\lukas\\Anaconda3\\lib\\site-packages\\sklearn\\neural_network\\multilayer_perceptron.py:564: UserWarning: Training interrupted by user.\n",
      "  warnings.warn(\"Training interrupted by user.\")\n",
      "C:\\Users\\lukas\\Anaconda3\\lib\\site-packages\\sklearn\\neural_network\\multilayer_perceptron.py:564: UserWarning: Training interrupted by user.\n",
      "  warnings.warn(\"Training interrupted by user.\")\n",
      "C:\\Users\\lukas\\Anaconda3\\lib\\site-packages\\sklearn\\neural_network\\multilayer_perceptron.py:564: UserWarning: Training interrupted by user.\n",
      "  warnings.warn(\"Training interrupted by user.\")\n"
     ]
    },
    {
     "name": "stdout",
     "output_type": "stream",
     "text": [
      "Number of Iraq incidents in y_pred:  5831 \n",
      "\n",
      "[[38055   165]\n",
      " [  398  5666]]\n"
     ]
    },
    {
     "data": {
      "image/png": "[encoded data removed]",
      "text/plain": [
       "<Figure size 288x288 with 1 Axes>"
      ]
     },
     "metadata": {
      "needs_background": "light"
     },
     "output_type": "display_data"
    },
    {
     "name": "stdout",
     "output_type": "stream",
     "text": [
      "accuracy_score :  0.9872866046427604\n",
      "precision_score :  0.9717029669010462\n",
      "recall_score :  0.9343667546174143\n",
      "f1_score :  0.9526691887347625\n"
     ]
    }
   ],
   "source": [
    "from sklearn.neural_network import MLPClassifier\n",
    "\n",
    "clf = MLPClassifier()\n",
    "print(\"Testing\", clf.__class__.__name__, \"on dataset\")\n",
    "\n",
    "clf.fit(X_train, y_train_country)\n",
    "\n",
    "y_pred = cross_val_predict(clf, X_test, y_test_country, cv=3)\n",
    "print(\"Number of Iraq incidents in y_pred: \", (y_pred == True).sum(), \"\\n\")\n",
    "\n",
    "M = confusion_matrix(y_test_country, y_pred)\n",
    "print(M)\n",
    "plt.matshow(M)\n",
    "plt.show()\n",
    "\n",
    "clf_score(accuracy_score)\n",
    "clf_score(precision_score)\n",
    "clf_score(recall_score)\n",
    "clf_score(f1_score)"
   ]
  },
  {
   "cell_type": "code",
   "execution_count": 11,
   "metadata": {},
   "outputs": [
    {
     "name": "stdout",
     "output_type": "stream",
     "text": [
      "Testing KNeighborsClassifier on dataset\n",
      "Number of Iraq incidents in y_pred:  6059 \n",
      "\n",
      "[[38215     5]\n",
      " [   10  6054]]\n"
     ]
    },
    {
     "data": {
      "image/png": "[encoded data removed]",
      "text/plain": [
       "<Figure size 288x288 with 1 Axes>"
      ]
     },
     "metadata": {
      "needs_background": "light"
     },
     "output_type": "display_data"
    },
    {
     "name": "stdout",
     "output_type": "stream",
     "text": [
      "accuracy_score :  0.9996612772107307\n",
      "precision_score :  0.9991747813170491\n",
      "recall_score :  0.9983509234828496\n",
      "f1_score :  0.9987626825043306\n"
     ]
    }
   ],
   "source": [
    "from sklearn.neighbors import KNeighborsClassifier\n",
    "\n",
    "clf = KNeighborsClassifier()\n",
    "print(\"Testing\", clf.__class__.__name__, \"on dataset\")\n",
    "\n",
    "clf.fit(X_train, y_train_country)\n",
    "\n",
    "y_pred = cross_val_predict(clf, X_test, y_test_country, cv=3)\n",
    "print(\"Number of Iraq incidents in y_pred: \", (y_pred == True).sum(), \"\\n\")\n",
    "\n",
    "M = confusion_matrix(y_test_country, y_pred)\n",
    "print(M)\n",
    "plt.matshow(M)\n",
    "plt.show()\n",
    "\n",
    "clf_score(accuracy_score)\n",
    "clf_score(precision_score)\n",
    "clf_score(recall_score)\n",
    "clf_score(f1_score)"
   ]
  }
 ],
 "metadata": {
  "kernelspec": {
   "display_name": "Python 3",
   "language": "python",
   "name": "python3"
  },
  "language_info": {
   "codemirror_mode": {
    "name": "ipython",
    "version": 3
   },
   "file_extension": ".py",
   "mimetype": "text/x-python",
   "name": "python",
   "nbconvert_exporter": "python",
   "pygments_lexer": "ipython3",
   "version": "3.7.2"
  }
 },
 "nbformat": 4,
 "nbformat_minor": 2
}
