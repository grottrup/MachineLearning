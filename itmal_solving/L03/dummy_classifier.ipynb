{
 "cells": [
  {
   "cell_type": "markdown",
   "metadata": {},
   "source": [
    "# ITMAL Exercise\n",
    "\n",
    "REVISIONS|\n",
    "---------|------------------------------------------------\n",
    "2018-1219| CEF, initial.                  \n",
    "2018-0206| CEF, updated and spell checked. \n",
    "2018-0208| CEF, minor text updata. \n",
    "\n",
    "## Implementing a dummy classifier with fit-predict interface\n",
    "\n",
    "We begin with the MNIST data-set and will reuse the data loader you just created. Next we create a dummy classifier, and compare the results of the SGD and dummy classifiers using the MNIST data...\n",
    "\n",
    "#### Qa  Add a Stochastic Gradient Decent [SGD] Classifier\n",
    "\n",
    "Create a train-test data-set for MNIST and then add the `SGDClassifier` as done in [HOLM], p82.\n",
    "\n",
    "Split your data and run the fit-predict for the classifier using the MNIST data.\n",
    "\n",
    "Notice that you have to reshape the MNIST X-data to be able to use the classifier. It may be a 3D array, consisting of 70000 (28 x 28) images, or just a 2D array consisting of 70000 elements of size 784.\n",
    "\n",
    "A simple `reshape()` could fix this on-the-fly:\n",
    "```python\n",
    "X, y = MNIST_GetDataSet()\n",
    "\n",
    "print(\"X.shape=\",X.shape) # print X.shape= (70000, 28, 28)\n",
    "if X.ndim==3:\n",
    "    print(\"reshaping X..\")\n",
    "    assert y.ndim==1\n",
    "    X = X.reshape((X.shape[0],X.shape[1]*X.shape[2]))\n",
    "assert X.ndim==2\n",
    "print(\"X.shape=\",X.shape) # X.shape= (70000, 784)\n",
    "```\n",
    "\n",
    "Remember to use the category-5 y inputs\n",
    "\n",
    "```python\n",
    "y_train_5 = (y_train == 5)    \n",
    "y_test_5  = (y_test == 5)\n",
    "```\n",
    "instead of the `y`'s you are getting out of the dataloader...\n",
    "\n",
    "Test your model on using the test data, and try to plot numbers that have been categorized correctly. Then also find and plots some misclassified numbers."
   ]
  },
  {
   "cell_type": "code",
   "execution_count": 1,
   "metadata": {},
   "outputs": [
    {
     "name": "stdout",
     "output_type": "stream",
     "text": [
      "Fetched raw MNIST\n"
     ]
    }
   ],
   "source": [
    "# This first line is to change directory as my PYTHONPATH,\n",
    "# is one directory level above itmal_solving\n",
    "\n",
    "% cd ..\n",
    "from libitmal import dataloaders as dl\n",
    "\n",
    "#from libitmal import dataloaders\n",
    "mnist = dl.GetMNISTRaw()"
   ]
  },
  {
   "cell_type": "code",
   "execution_count": 2,
   "metadata": {},
   "outputs": [
    {
     "name": "stdout",
     "output_type": "stream",
     "text": [
      "X.shape= (70000, 784)\n",
      "X.shape= (70000, 784)\n"
     ]
    },
    {
     "name": "stderr",
     "output_type": "stream",
     "text": [
      "C:\\Users\\Fatima\\Anaconda3\\lib\\site-packages\\sklearn\\linear_model\\stochastic_gradient.py:166: FutureWarning: max_iter and tol parameters have been added in SGDClassifier in 0.19. If both are left unset, they default to max_iter=5 and tol=None. If tol is not None, max_iter defaults to max_iter=1000. From 0.21, default max_iter will be 1000, and default tol will be 1e-3.\n",
      "  FutureWarning)\n"
     ]
    },
    {
     "data": {
      "image/png": "[encoded data removed]",
      "text/plain": [
       "<Figure size 432x288 with 1 Axes>"
      ]
     },
     "metadata": {
      "needs_background": "light"
     },
     "output_type": "display_data"
    },
    {
     "name": "stdout",
     "output_type": "stream",
     "text": [
      "[False]\n"
     ]
    },
    {
     "data": {
      "image/png": "[encoded data removed]",
      "text/plain": [
       "<Figure size 432x288 with 1 Axes>"
      ]
     },
     "metadata": {
      "needs_background": "light"
     },
     "output_type": "display_data"
    },
    {
     "name": "stdout",
     "output_type": "stream",
     "text": [
      "[ True]\n"
     ]
    },
    {
     "data": {
      "image/png": "[encoded data removed]",
      "text/plain": [
       "<Figure size 432x288 with 1 Axes>"
      ]
     },
     "metadata": {
      "needs_background": "light"
     },
     "output_type": "display_data"
    },
    {
     "name": "stdout",
     "output_type": "stream",
     "text": [
      "[False]\n"
     ]
    }
   ],
   "source": [
    "# TODO: Qa...\n",
    "from sklearn.model_selection import train_test_split, cross_val_score\n",
    "from sklearn.linear_model import SGDClassifier\n",
    "import numpy as np\n",
    "# import sklearn\n",
    "\n",
    "X, y = dl.MNIST_GetDataSet(mnist)\n",
    "\n",
    "print(\"X.shape=\",X.shape) # print X.shape= (70000, 28, 28)\n",
    "\n",
    "if X.ndim==3: #Check if the X-Matrix has 3 dimensions.\n",
    "    print(\"reshaping X..\")\n",
    "    assert y.ndim==1\n",
    "    X = X.reshape((X.shape[0],X.shape[1]*X.shape[2]))\n",
    "    \n",
    "assert X.ndim==2 # check if the X-matrix now is 2-dimensional\n",
    "print(\"X.shape=\",X.shape) # X.shape= (70000, 784)\n",
    "#Remember to use the category-5 y inputs\n",
    "\n",
    "# As described in the book the minist set is already split in a Train set and test set,\n",
    "# The first 60k out of 70k are train sets, and the last 10k is the test set.\n",
    "# So we just split the sets up by conventional matrix row and column operations.\n",
    "\n",
    "# 10000 for test, 60000 for train\n",
    "X_train, X_test, y_train, y_test = X[:60000], X[60000:], y[:60000], y[60000:]\n",
    "\n",
    "# We shuffle the data set as per suggested in the book [HOLM] p81:\n",
    "# \"This will guarantee that all cross-validation folds will be similar,\n",
    "# (you don’t want one fold to be missing some digits). Moreover, some learning\n",
    "# algorithms are sensitive to the order of the training instances, and they perform\n",
    "# poorly if they get many similar instances in a row. Shuffling the dataset ensures that\n",
    "# this won’t happen\".\n",
    "shuffle_index = np.random.permutation(60000)\n",
    "X_train, y_train = X_train[shuffle_index], y_train[shuffle_index]\n",
    "\n",
    "y_train_5 = (y_train == 5)\n",
    "y_test_5  = (y_test == 5)\n",
    "\n",
    "# Instatiate a new SGD classifier and train it on the train set.\n",
    "sgd_clf = SGDClassifier(random_state=42)\n",
    "sgd_clf.fit(X_train, y_train_5)\n",
    "\n",
    "#First digit taken out, plotted, and the predict if the digit is 5 or not.\n",
    "first_digit = X_test[11]\n",
    "dl.MNIST_PlotDigit(first_digit)\n",
    "print(sgd_clf.predict([first_digit]))\n",
    "\n",
    "# Second digit, same procedure.\n",
    "second_digit = X_test[207]\n",
    "dl.MNIST_PlotDigit(second_digit)\n",
    "print(sgd_clf.predict([second_digit]))\n",
    "\n",
    "# The model cannot predict this 5\n",
    "third_digit = X_test[8]\n",
    "dl.MNIST_PlotDigit(third_digit)\n",
    "print(sgd_clf.predict([third_digit]))"
   ]
  },
  {
   "cell_type": "markdown",
   "metadata": {},
   "source": [
    "#### Qb Implement a dummy binary classifier\n",
    "\n",
    "Follow the code found in [HOML], p84, but name you estimator `DummyClassifier` instead of `Never5Classifyer`.\n",
    "\n",
    "Here our Python class knowledge comes into play. The estimator class hierarchy looks like\n",
    "\n",
    "<img src=\"Figs/class_base_estimator.png\" style=\"width:500px\">\n",
    "\n",
    "All Scikit-learn classifiers inherit form `BaseEstimator` (and possible also `ClassifierMixin`), and they must have a `fit-predict` function pair (strangely not in the base class!) and you can actually find the `sklearn.base.BaseEstimator` and `sklearn.base.ClassifierMixin` python source code somewhere in you anaconda install dir, if you should have the nerves to go to such interesting details.\n",
    "\n",
    "But surprisingly you may just want to implement a class that contains the `fit-predict` functions, ___without inheriting___ from the `BaseEstimator`, things still work due to the pythonic 'duck-typing': you just need to have the class implement the needed interfaces, obviously `fit()` and `predict()` but also the more obscure `get_params()` etc....then the class 'looks like' a `BaseEstimator`...and if it looks like an estimator, it _is_ an estimator (aka. duct typing).\n",
    "\n",
    "Templates in C++ also allow the language to use compile-time duck typing!\n",
    "\n",
    "> https://en.wikipedia.org/wiki/Duck_typing\n",
    "\n",
    "Call the fit-predict on a newly instantiated `DummyClassifier` object, and try to compare the confusion matrix for both the dummy and SDG classifier.\n",
    "\n",
    "We will be discussing the confusion matrix next, but first, print the `y_test_5.shape` and count the numbers of `y_test_5==True` and `y_test_5==False` and see if you can find these numbers in the confusion matrix."
   ]
  },
  {
   "cell_type": "code",
   "execution_count": 3,
   "metadata": {},
   "outputs": [
    {
     "data": {
      "image/png": "[encoded data removed]",
      "text/plain": [
       "<Figure size 432x288 with 1 Axes>"
      ]
     },
     "metadata": {
      "needs_background": "light"
     },
     "output_type": "display_data"
    },
    {
     "name": "stdout",
     "output_type": "stream",
     "text": [
      "[[False]]\n",
      "\n",
      "Shape of y_test_5:  (10000,)\n"
     ]
    },
    {
     "name": "stderr",
     "output_type": "stream",
     "text": [
      "C:\\Users\\Fatima\\Anaconda3\\lib\\site-packages\\sklearn\\linear_model\\stochastic_gradient.py:166: FutureWarning: max_iter and tol parameters have been added in SGDClassifier in 0.19. If both are left unset, they default to max_iter=5 and tol=None. If tol is not None, max_iter defaults to max_iter=1000. From 0.21, default max_iter will be 1000, and default tol will be 1e-3.\n",
      "  FutureWarning)\n",
      "C:\\Users\\Fatima\\Anaconda3\\lib\\site-packages\\sklearn\\linear_model\\stochastic_gradient.py:166: FutureWarning: max_iter and tol parameters have been added in SGDClassifier in 0.19. If both are left unset, they default to max_iter=5 and tol=None. If tol is not None, max_iter defaults to max_iter=1000. From 0.21, default max_iter will be 1000, and default tol will be 1e-3.\n",
      "  FutureWarning)\n",
      "C:\\Users\\Fatima\\Anaconda3\\lib\\site-packages\\sklearn\\linear_model\\stochastic_gradient.py:166: FutureWarning: max_iter and tol parameters have been added in SGDClassifier in 0.19. If both are left unset, they default to max_iter=5 and tol=None. If tol is not None, max_iter defaults to max_iter=1000. From 0.21, default max_iter will be 1000, and default tol will be 1e-3.\n",
      "  FutureWarning)\n"
     ]
    },
    {
     "name": "stdout",
     "output_type": "stream",
     "text": [
      "SGD confusion matrix: \n",
      "[[8957  151]\n",
      " [ 245  647]]\n",
      "\n",
      "SGD accuracy: \n"
     ]
    },
    {
     "name": "stderr",
     "output_type": "stream",
     "text": [
      "C:\\Users\\Fatima\\Anaconda3\\lib\\site-packages\\sklearn\\linear_model\\stochastic_gradient.py:166: FutureWarning: max_iter and tol parameters have been added in SGDClassifier in 0.19. If both are left unset, they default to max_iter=5 and tol=None. If tol is not None, max_iter defaults to max_iter=1000. From 0.21, default max_iter will be 1000, and default tol will be 1e-3.\n",
      "  FutureWarning)\n",
      "C:\\Users\\Fatima\\Anaconda3\\lib\\site-packages\\sklearn\\linear_model\\stochastic_gradient.py:166: FutureWarning: max_iter and tol parameters have been added in SGDClassifier in 0.19. If both are left unset, they default to max_iter=5 and tol=None. If tol is not None, max_iter defaults to max_iter=1000. From 0.21, default max_iter will be 1000, and default tol will be 1e-3.\n",
      "  FutureWarning)\n",
      "C:\\Users\\Fatima\\Anaconda3\\lib\\site-packages\\sklearn\\linear_model\\stochastic_gradient.py:166: FutureWarning: max_iter and tol parameters have been added in SGDClassifier in 0.19. If both are left unset, they default to max_iter=5 and tol=None. If tol is not None, max_iter defaults to max_iter=1000. From 0.21, default max_iter will be 1000, and default tol will be 1e-3.\n",
      "  FutureWarning)\n"
     ]
    },
    {
     "name": "stdout",
     "output_type": "stream",
     "text": [
      "[0.95170966 0.95979598 0.96969697]\n",
      "\n",
      "Dummy confusion matrix: \n",
      "[[9108    0]\n",
      " [ 892    0]]\n",
      "\n",
      "Dummy accuracy: \n",
      "[0.90791842 0.91029103 0.91419142]\n"
     ]
    }
   ],
   "source": [
    "# TODO: Qb\n",
    "from sklearn.base import BaseEstimator\n",
    "from sklearn.model_selection import cross_val_score\n",
    "from sklearn.model_selection import cross_val_predict\n",
    "from sklearn.metrics import confusion_matrix\n",
    "\n",
    "class DummyClassifier(BaseEstimator):\n",
    "    def fit(self, X, y=None):\n",
    "        pass\n",
    "    \n",
    "    def predict(self, X):\n",
    "        return np.zeros((len(X), 1), dtype=bool)\n",
    "\n",
    "digit = X_test[11]\n",
    "dummyClassifier = DummyClassifier()\n",
    "dummyClassifier.fit(X_train, y_train_5)\n",
    "\n",
    "dl.MNIST_PlotDigit(second_digit)\n",
    "print(dummyClassifier.predict([second_digit]))\n",
    "print()\n",
    "print('Shape of y_test_5: ', y_test_5.shape)\n",
    "\n",
    "y_test_pred_SGD = cross_val_predict(sgd_clf, X_test, y_test_5, cv=3)\n",
    "y_test_pred_DumDum = cross_val_predict(dummyClassifier, X_test, y_test_5, cv=3)\n",
    "\n",
    "\n",
    "# Confusion matrix shows:\n",
    "# True Positive     False Positive\n",
    "# False Negative    True Negative\n",
    "print(\"SGD confusion matrix: \")\n",
    "print(confusion_matrix(y_test_5, y_test_pred_SGD))\n",
    "print()\n",
    "print(\"SGD accuracy: \")\n",
    "print(cross_val_score(sgd_clf, X_test, y_test_5, cv=3, scoring=\"accuracy\"))\n",
    "print()\n",
    "print(\"Dummy confusion matrix: \")\n",
    "print(confusion_matrix(y_test_5, y_test_pred_DumDum))\n",
    "print()\n",
    "print(\"Dummy accuracy: \")\n",
    "print(cross_val_score(dummyClassifier, X_test, y_test_5, cv=3, scoring=\"accuracy\"))\n",
    "\n",
    "# By looking at the confusion matrix, it is seen that the Dummy classifier has more true positives than the SGD. This is very\n",
    "# obvious since it will classify all instances as a not-5. Dummy classifier will have no false positives or true negatives\n",
    "# because of this. The SGD classifier classifies 8957 as true positives and 647 as true negatives, and 151 as false positives\n",
    "# and 245 as false negatives. This is obviously a lot better than the Dummy classifier that identifies 892 as false negatives\n",
    "# This shows that the mere precision of a classifier is not sufficient, but it has to be more sensitive to data as well.\n",
    "# The total number of the two confusion matrices is 10000, because the cross_val_predict is calculated on the test data with\n",
    "# 10000 instances.\n",
    "# The scores of test folds are returned when calling cross_val_score. This shows that the mean accuracy of the SGD is better \n",
    "# than the Dummy classifier, since the false negatives of the Dummy classifier is very high."
   ]
  }
 ],
 "metadata": {
  "kernelspec": {
   "display_name": "Python 3",
   "language": "python",
   "name": "python3"
  },
  "language_info": {
   "codemirror_mode": {
    "name": "ipython",
    "version": 3
   },
   "file_extension": ".py",
   "mimetype": "text/x-python",
   "name": "python",
   "nbconvert_exporter": "python",
   "pygments_lexer": "ipython3",
   "version": "3.7.1"
  }
 },
 "nbformat": 4,
 "nbformat_minor": 2
}
