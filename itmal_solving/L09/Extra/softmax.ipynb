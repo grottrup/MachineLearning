{
 "cells": [
  {
   "cell_type": "code",
   "execution_count": 10,
   "metadata": {},
   "outputs": [
    {
     "name": "stdout",
     "output_type": "stream",
     "text": [
      "x = [ 1  2 -4  5  1]\n",
      "np.argmax(x) = 3\n",
      "softmax(x) = [0.02 0.05 0.   0.92 0.02]\n",
      "np.argmax(softmax(x)) = 3\n"
     ]
    }
   ],
   "source": [
    "import numpy as np\n",
    "from libitmal.utils_v2 import PrintMatrix\n",
    "\n",
    "x = np.array([1, 2, -4, 5, 1])\n",
    "i = np.argmax(x)\n",
    "\n",
    "PrintMatrix(x,\"x = \")\n",
    "print(f\"np.argmax(x) = {np.argmax(x)}\")\n",
    "\n",
    "def softmax(x):\n",
    "    if (x.ndim!=1):\n",
    "        raise RuntimeError(\"bad input argument, expected a type with ndim=1\")\n",
    "    if (len(x)==0):\n",
    "        raise RuntimeError(\"input argument has lenght=0\")\n",
    "    z = np.exp(x - np.max(x)) # NOTE: slightly optimized version\n",
    "    s = np.sum(z)\n",
    "    if (s==0):\n",
    "        raise ArithmeticError(\"cannot divide by zero\")\n",
    "    sm = z / s\n",
    "    assert sm.sum()>=1-1E-12 and sm.sum()<=1\n",
    "    return sm\n",
    " \n",
    "PrintMatrix(softmax(x),\"softmax(x) = \")\n",
    "print(f\"np.argmax(softmax(x)) = {np.argmax(softmax(x))}\")\n",
    "\n",
    "# TEST vector\n",
    "x = np.array([1.0, 2.0, 3.0, 4.0, 1.0, 2.0, 3.0]) \n",
    "t = np.array([0.023640543021591385, 0.06426165851049616, 0.17468129859572226, 0.4748329997443803, 0.023640543021591385, 0.06426165851049616, 0.17468129859572226])\n",
    "s = softmax(x)\n",
    "assert np.allclose(s, t), \"test vector for softmax failed\""
   ]
  }
 ],
 "metadata": {
  "kernelspec": {
   "display_name": "Python 3",
   "language": "python",
   "name": "python3"
  },
  "language_info": {
   "codemirror_mode": {
    "name": "ipython",
    "version": 3
   },
   "file_extension": ".py",
   "mimetype": "text/x-python",
   "name": "python",
   "nbconvert_exporter": "python",
   "pygments_lexer": "ipython3",
   "version": "3.6.8"
  },
  "varInspector": {
   "cols": {
    "lenName": 16,
    "lenType": 16,
    "lenVar": 40
   },
   "kernels_config": {
    "python": {
     "delete_cmd_postfix": "",
     "delete_cmd_prefix": "del ",
     "library": "var_list.py",
     "varRefreshCmd": "print(var_dic_list())"
    },
    "r": {
     "delete_cmd_postfix": ") ",
     "delete_cmd_prefix": "rm(",
     "library": "var_list.r",
     "varRefreshCmd": "cat(var_dic_list()) "
    }
   },
   "types_to_exclude": [
    "module",
    "function",
    "builtin_function_or_method",
    "instance",
    "_Feature"
   ],
   "window_display": true
  }
 },
 "nbformat": 4,
 "nbformat_minor": 2
}
