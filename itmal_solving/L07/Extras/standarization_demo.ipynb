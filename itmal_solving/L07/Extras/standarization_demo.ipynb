{
 "cells": [
  {
   "cell_type": "markdown",
   "metadata": {},
   "source": [
    "# Preprocessing of Data\n",
    "\n",
    "## Standardization\n",
    "\n",
    "### First standarization..."
   ]
  },
  {
   "cell_type": "code",
   "execution_count": 30,
   "metadata": {},
   "outputs": [
    {
     "name": "stdout",
     "output_type": "stream",
     "text": [
      "X_scaled=[[ 0.   -1.22  1.34]\n",
      "          [ 1.22  0.   -0.27]\n",
      "          [-1.22  1.22 -1.07]]\n",
      "\n",
      "X_scaled.mean()=0.000\n",
      "X_scaled.std() =1.000\n",
      "\n",
      "Column-wise mean and std:\n",
      "\n",
      "X_scaled.mean()=[0. 0. 0.]\n",
      "X_scaled.std() =[1. 1. 1.]\n"
     ]
    }
   ],
   "source": [
    "import numpy as np\n",
    "\n",
    "from sklearn.preprocessing import scale, StandardScaler\n",
    "from libitmal import utils as libmalutils\n",
    "\n",
    "# Some dummy data...\n",
    "X_train = np.array([[ 1., -1.,  2.],\n",
    "                    [ 2.,  0.,  0.],\n",
    "                    [ 0.,  1., -1.]])\n",
    "y_train = np.array([1, 0, 1])\n",
    "\n",
    "X_scaled = scale(X_train)\n",
    "\n",
    "libmalutils.PrintMatrix(X_scaled,'X_scaled=')\n",
    "print()\n",
    "print(f'X_scaled.mean()={X_scaled.mean():0.3f}')\n",
    "print(f'X_scaled.std() ={X_scaled.std():0.3f}')\n",
    "print('\\nColumn-wise mean and std:\\n')\n",
    "print(f'X_scaled.mean()={X_scaled.mean(axis=0)}')\n",
    "print(f'X_scaled.std() ={X_scaled.std (axis=0)}')"
   ]
  },
  {
   "cell_type": "markdown",
   "metadata": {},
   "source": [
    "### Now via a preprocess (fit-predict interface) scaler.."
   ]
  },
  {
   "cell_type": "code",
   "execution_count": 23,
   "metadata": {},
   "outputs": [
    {
     "name": "stdout",
     "output_type": "stream",
     "text": [
      "StandardScaler(copy=True, with_mean=True, with_std=True)\n",
      "\n",
      "scaler.mean_ =[1.         0.         0.33333333]\n",
      "scaler.scale_=[0.81649658 0.81649658 1.24721913]\n",
      "scaler.var_  =[0.66666667 0.66666667 1.55555556]\n",
      "\n",
      "scaler.transform(X_train)=[[ 0.   -1.22  1.34]\n",
      "                           [ 1.22  0.   -0.27]\n",
      "                           [-1.22  1.22 -1.07]]\n",
      "scaler.transform(X_train)=[1. 1. 1.]\n"
     ]
    }
   ],
   "source": [
    "# scaler = StandardScaler().fit(X_train)\n",
    "print(scaler)\n",
    "print()\n",
    "print(f'scaler.mean_ ={scaler.mean_}')                                      \n",
    "print(f'scaler.scale_={scaler.scale_}')        \n",
    "print(f'scaler.var_  ={scaler.var_}')          \n",
    "print()                           \n",
    "\n",
    "libmalutils.PrintMatrix(scaler.transform(X_train),'scaler.transform(X_train)=') \n",
    "libmalutils.PrintMatrix(scaler.transform(X_train).std(axis=0),'scaler.transform(X_train)=') "
   ]
  },
  {
   "cell_type": "markdown",
   "metadata": {},
   "source": [
    "### And finally via a Pipeline"
   ]
  },
  {
   "cell_type": "code",
   "execution_count": 32,
   "metadata": {},
   "outputs": [
    {
     "name": "stdout",
     "output_type": "stream",
     "text": [
      "[1 0 1]\n"
     ]
    }
   ],
   "source": [
    "from sklearn.naive_bayes import GaussianNB\n",
    "from sklearn.pipeline import make_pipeline\n",
    "\n",
    "mypipeline = make_pipeline(\n",
    "    StandardScaler(), \n",
    "    GaussianNB(priors=None)\n",
    ")\n",
    "\n",
    "mypipeline.fit(X_train, y_train)\n",
    "print(mypipeline.predict(X_train)) # just a dummy demo, predict on train data"
   ]
  }
 ],
 "metadata": {
  "kernelspec": {
   "display_name": "Python 3",
   "language": "python",
   "name": "python3"
  },
  "language_info": {
   "codemirror_mode": {
    "name": "ipython",
    "version": 3
   },
   "file_extension": ".py",
   "mimetype": "text/x-python",
   "name": "python",
   "nbconvert_exporter": "python",
   "pygments_lexer": "ipython3",
   "version": "3.6.8"
  },
  "varInspector": {
   "cols": {
    "lenName": 16,
    "lenType": 16,
    "lenVar": 40
   },
   "kernels_config": {
    "python": {
     "delete_cmd_postfix": "",
     "delete_cmd_prefix": "del ",
     "library": "var_list.py",
     "varRefreshCmd": "print(var_dic_list())"
    },
    "r": {
     "delete_cmd_postfix": ") ",
     "delete_cmd_prefix": "rm(",
     "library": "var_list.r",
     "varRefreshCmd": "cat(var_dic_list()) "
    }
   },
   "types_to_exclude": [
    "module",
    "function",
    "builtin_function_or_method",
    "instance",
    "_Feature"
   ],
   "window_display": false
  }
 },
 "nbformat": 4,
 "nbformat_minor": 2
}
