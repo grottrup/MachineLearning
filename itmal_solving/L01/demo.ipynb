{
 "cells": [
  {
   "cell_type": "markdown",
   "metadata": {},
   "source": [
    "# Lesson 01\n",
    "## Mini Python Demo\n",
    "\n",
    "\n",
    "REVISIONS|\n",
    "---------|-------------------------------\n",
    "2019-0128|CEF, initial. \n",
    "\n",
    "\n",
    "### Mini Python/Jupyternotebook demo\n",
    "\n",
    "Build-in python array an Numpy arrays..."
   ]
  },
  {
   "cell_type": "code",
   "execution_count": 56,
   "metadata": {},
   "outputs": [
    {
     "name": "stdout",
     "output_type": "stream",
     "text": [
      "x=[[1, 2, 3], [4, 5, 'A']]\n",
      "\n",
      "y=[['1' '2' '3' '4']\n",
      " ['10' '20' '30' 'A']]\n",
      "\n",
      "y.dtype=<U21, y.itemsize=84\n",
      "\n",
      "indexing...\n",
      "2\n",
      "4\n",
      "3\n",
      "['2' '20']\n"
     ]
    }
   ],
   "source": [
    "# import clause, imports numpy as the name 'np'\n",
    "import numpy as np\n",
    "\n",
    "# python build-in array\n",
    "x=[[1,2,3],[4,5,'A']]\n",
    "\n",
    "# print using print-f-syntax\n",
    "print(f'x={x}')\n",
    "print()\n",
    "\n",
    "# create a numpy array\n",
    "y=np.array([[1,2,3,4], [10, 20, 30, \"A\"]])\n",
    "\n",
    "print(f'y={y}')\n",
    "print()\n",
    "print(f'y.dtype={y.dtype}, y.itemsize={y.itemsize}')\n",
    "print()\n",
    "\n",
    "print(\"indexing...\")\n",
    "print(y[0,1])  \n",
    "print(y[0,-1])\n",
    "print(y[0,-2])\n",
    "\n",
    "# print a column\n",
    "print(y[:,1])"
   ]
  },
  {
   "cell_type": "markdown",
   "metadata": {},
   "source": [
    "#### Matrix multiplication\n"
   ]
  },
  {
   "cell_type": "code",
   "execution_count": 84,
   "metadata": {},
   "outputs": [
    {
     "name": "stdout",
     "output_type": "stream",
     "text": [
      "the dot product, np.dot(y,x)=[[  30  300]\n",
      " [ 300 3000]]\n",
      "matrix type mult: my*mx=[[  30  300]\n",
      " [ 300 3000]]\n"
     ]
    }
   ],
   "source": [
    "y=np.array([[1,2,3,4], [10, 20, 30, 40]])\n",
    "x=np.transpose(y)\n",
    "\n",
    "#z=y*x\n",
    "#print(f'the *-operator is not multiplication, z={z}')\n",
    "\n",
    "z=np.dot(y,x)\n",
    "print(f'the dot product, np.dot(y,x)={z}')\n",
    "\n",
    "# matrix type rarely use (unfortunatly)\n",
    "my=np.matrix(y)\n",
    "mx=np.matrix(x)\n",
    "mz=my*mx;\n",
    "\n",
    "print(f'matrix type mult: my*mx={mz}')"
   ]
  },
  {
   "cell_type": "markdown",
   "metadata": {},
   "source": [
    "#### Writing pythonic,robust code\n",
    "\n",
    "Range-checks and fail-fast..."
   ]
  },
  {
   "cell_type": "code",
   "execution_count": 85,
   "metadata": {},
   "outputs": [
    {
     "name": "stdout",
     "output_type": "stream",
     "text": [
      "writing pythonic,robust code: range-checks and fail-fast...\n",
      "cauth exception e=index -5 is out of bounds for axis 1 with size 4\n",
      "Traceback (most recent call last):\n",
      "  File \"<ipython-input-85-b0586c5a5203>\", line 9, in <module>\n",
      "    print(y[:,-5])\n",
      "IndexError: index -5 is out of bounds for axis 1 with size 4\n"
     ]
    }
   ],
   "source": [
    "import sys, traceback\n",
    "\n",
    "print(\"writing pythonic,robust code: range-checks and fail-fast...\")\n",
    "\n",
    "# python do all kinds of range-checks: robust coding\n",
    "#print(y[:,-5]) # will throw!\n",
    "\n",
    "try:\n",
    "    print(y[:,-5])\n",
    "except IndexError as e:\n",
    "    print(f\"cauth exception e={e}\")\n",
    "    traceback.print_exc(file=sys.stdout)"
   ]
  }
 ],
 "metadata": {
  "kernelspec": {
   "display_name": "Python 3",
   "language": "python",
   "name": "python3"
  },
  "language_info": {
   "codemirror_mode": {
    "name": "ipython",
    "version": 3
   },
   "file_extension": ".py",
   "mimetype": "text/x-python",
   "name": "python",
   "nbconvert_exporter": "python",
   "pygments_lexer": "ipython3",
   "version": "3.6.5"
  }
 },
 "nbformat": 4,
 "nbformat_minor": 2
}
